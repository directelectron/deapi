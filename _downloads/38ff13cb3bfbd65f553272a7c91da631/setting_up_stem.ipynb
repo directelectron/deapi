{
  "cells": [
    {
      "cell_type": "markdown",
      "metadata": {},
      "source": [
        "\n# Setting up a STEM Experiment\nThis script demonstrates how to set up a STEM experiment using the DE API.\n\nThis script will:\n1. Connect to the DE server\n2. Set the hardware ROI to 256x256\n3. Set the scan size to 256x256\n4. Set the number of frames per second to 1000\n5. Acquire a STEM image using a HAADF detector\n"
      ]
    },
    {
      "cell_type": "code",
      "execution_count": null,
      "metadata": {
        "collapsed": false
      },
      "outputs": [],
      "source": [
        "from deapi import Client"
      ]
    },
    {
      "cell_type": "markdown",
      "metadata": {},
      "source": [
        "Connect to the DE server\n\n"
      ]
    },
    {
      "cell_type": "code",
      "execution_count": null,
      "metadata": {
        "collapsed": false
      },
      "outputs": [],
      "source": [
        "client = Client()\nclient.usingMmf = False\nclient.connect(port=13241)  # connect to the running DE Server"
      ]
    },
    {
      "cell_type": "markdown",
      "metadata": {},
      "source": [
        "## Set the hardware ROI to 256x256\nIn this case we just use the center 256 pixels of the 1024 pixel sensor.\n\n"
      ]
    },
    {
      "cell_type": "code",
      "execution_count": null,
      "metadata": {
        "collapsed": false
      },
      "outputs": [],
      "source": [
        "client[\"Hardware ROI Size X\"] = 256\nclient[\"Hardware ROI Size Y\"] = 256\nclient[\"Hardware ROI Offset X\"] = 256\nclient[\"Hardware ROI Offset Y\"] = 256"
      ]
    },
    {
      "cell_type": "markdown",
      "metadata": {},
      "source": [
        "Set the scan size to 256x256\n\n"
      ]
    },
    {
      "cell_type": "code",
      "execution_count": null,
      "metadata": {
        "collapsed": false
      },
      "outputs": [],
      "source": [
        "client.scan(size_x=256, size_y=256, enable=\"On\")"
      ]
    },
    {
      "cell_type": "markdown",
      "metadata": {},
      "source": [
        "Set the number of frames per second to 1000\n\n"
      ]
    },
    {
      "cell_type": "code",
      "execution_count": null,
      "metadata": {
        "collapsed": false
      },
      "outputs": [],
      "source": [
        "client[\"Frames Per Second\"] = 1000"
      ]
    },
    {
      "cell_type": "markdown",
      "metadata": {},
      "source": [
        "Acquire a STEM image using a HAADF detector\n\n"
      ]
    }
  ],
  "metadata": {
    "kernelspec": {
      "display_name": "Python 3",
      "language": "python",
      "name": "python3"
    },
    "language_info": {
      "codemirror_mode": {
        "name": "ipython",
        "version": 3
      },
      "file_extension": ".py",
      "mimetype": "text/x-python",
      "name": "python",
      "nbconvert_exporter": "python",
      "pygments_lexer": "ipython3",
      "version": "3.11.10"
    }
  },
  "nbformat": 4,
  "nbformat_minor": 0
}