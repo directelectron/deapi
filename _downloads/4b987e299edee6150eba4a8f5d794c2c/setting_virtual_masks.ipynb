{
  "cells": [
    {
      "cell_type": "markdown",
      "metadata": {},
      "source": [
        "\n# Creating a Custom Virtual Mask\n\nVirtual images are easily created from a\nseries of (currently) 4 seperate masks. These masks\nare 8 bit images with values:\n\n\n0: Negative Mask, pixel values subtracted\n1: Default value, pixels not accounted for\n2: Positive Mask, pixel values added\n\n\nAdditionally virtual images can be\n"
      ]
    },
    {
      "cell_type": "code",
      "execution_count": null,
      "metadata": {
        "collapsed": false
      },
      "outputs": [],
      "source": [
        "from deapi import Client\nimport matplotlib.pyplot as plt\nimport time\nfrom skimage.draw import disk\n\nc = Client()\nc.usingMmf = False\nc.connect(port=13241)  # connect to the running DE Server\n\nc.virtual_masks[0][:] = 1  # Set everything to 1\nc.virtual_masks[0].plot()  # plot the current v0 mask"
      ]
    },
    {
      "cell_type": "markdown",
      "metadata": {},
      "source": [
        "## Changing the virtual mask\nEach of the virtual masks will act like a numpy array such\nthat you can use numpy fancy indexing to slice or assign\nthe array. For example we can set a portion of the mask to\nbe 2 (positive mask)\n\n"
      ]
    },
    {
      "cell_type": "code",
      "execution_count": null,
      "metadata": {
        "collapsed": false
      },
      "outputs": [],
      "source": [
        "c.virtual_masks[0][0:25] = 2  # first 25 pixels\nc.virtual_masks[0].name = \"Sum Virt Img\"\nc.virtual_masks[0].plot()"
      ]
    },
    {
      "cell_type": "markdown",
      "metadata": {},
      "source": [
        "## Subtracting and adding\nDifferent modes can be used with each virtual image. These are set using\nThe calculation attribute. Lets try that with Virtual image 1\n\n"
      ]
    },
    {
      "cell_type": "code",
      "execution_count": null,
      "metadata": {
        "collapsed": false
      },
      "outputs": [],
      "source": [
        "c.virtual_masks[1].calculation = \"Difference\"\nc.virtual_masks[1].name = \"Diff Virt Img\"\nc.virtual_masks[1][1::2] = 0  # every other pixel subtracts\nc.virtual_masks[1][::2] = 2  # every other pixel subtracts\nc.virtual_masks[1].plot()"
      ]
    },
    {
      "cell_type": "markdown",
      "metadata": {},
      "source": [
        "## Creating a Virtual BrightField Image\n\n"
      ]
    },
    {
      "cell_type": "code",
      "execution_count": null,
      "metadata": {
        "collapsed": false
      },
      "outputs": [],
      "source": [
        "c.virtual_masks[2].calculation = \"Sum\"\nc.virtual_masks[2].name = \"VBF\"\nshape = c.virtual_masks[2][:].shape\nrr, cc = disk((shape[0] // 2, shape[1] // 2), 100)\nc.virtual_masks[2][:] = 1\nc.virtual_masks[2][rr, cc] = 2\nc.virtual_masks[2].plot()"
      ]
    },
    {
      "cell_type": "code",
      "execution_count": null,
      "metadata": {
        "collapsed": false
      },
      "outputs": [],
      "source": [
        "# Plotting Multiple Virtual Images\n# --------------------------------\n# We can also make a tableau of virtual images using the matplotlib.pyplot\n# package and passing an Axis to the plot function\n\nfig, axs = plt.subplots(1, 2)\nfor a, v in zip(axs, c.virtual_masks):\n    v.plot(ax=a)"
      ]
    },
    {
      "cell_type": "markdown",
      "metadata": {},
      "source": [
        "## Starting an Acquisition\nOnce we have set up an experiment we can start an acquisition using the\nstart acquisition function\n\n"
      ]
    },
    {
      "cell_type": "code",
      "execution_count": null,
      "metadata": {
        "collapsed": false
      },
      "outputs": [],
      "source": [
        "c[\"Frames Per Second\"] = 5000  # 5000 frames per second\nc.scan(enable=\"On\", size_x=128, size_y=128)\nc.start_acquisition()\n\nwhile c.acquiring:  # wait for acquisition to finish and then plot the results\n    time.sleep(1)\n\nfig, axs = plt.subplots(1, 3)\nfor a, virt in zip(axs, [\"virtual_image0\", \"virtual_image1\", \"virtual_image2\"]):\n    data, _, _, _ = c.get_result(virt)\n    a.imshow(data)"
      ]
    }
  ],
  "metadata": {
    "kernelspec": {
      "display_name": "Python 3",
      "language": "python",
      "name": "python3"
    },
    "language_info": {
      "codemirror_mode": {
        "name": "ipython",
        "version": 3
      },
      "file_extension": ".py",
      "mimetype": "text/x-python",
      "name": "python",
      "nbconvert_exporter": "python",
      "pygments_lexer": "ipython3",
      "version": "3.11.10"
    }
  },
  "nbformat": 4,
  "nbformat_minor": 0
}