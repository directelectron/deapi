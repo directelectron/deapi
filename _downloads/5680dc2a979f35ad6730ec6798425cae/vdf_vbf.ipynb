{
  "cells": [
    {
      "cell_type": "markdown",
      "metadata": {},
      "source": [
        "\n# Virtual Dark/Bright Field (VDF/VBF) Imaging\nThis example demonstrates how to acquire a VDF/VBF image using DE API.\n\nThe virtual images are created by summing or subtracting the pixel values of the\ninput image based on the values of the virtual masks. The virtual masks are\n8-bit images with values:\n- 0: Negative Mask, pixel values subtracted\n- 1: Default value, pixels not accounted for\n- 2: Positive Mask, pixel values added\n\nHere we will\n\n1. Connect to the DE server\n2. Set the hardware ROI\n3. Acquire a single diffraction pattern for guiding the virtual imaging\n4. Automatically generate the virtual birght field (VBF) and virtual dark field (VDF) images\n   by finding the brightest disk in the diffraction pattern and measuring the extent of the\n   disk in the diffraction pattern.\n5. Acquire the VDF/VBF images and plot them.\n"
      ]
    },
    {
      "cell_type": "code",
      "execution_count": null,
      "metadata": {
        "collapsed": false
      },
      "outputs": [],
      "source": [
        "import numpy as np\n\nfrom deapi import Client\nimport time\nfrom scipy.ndimage import gaussian_filter\nfrom skimage.segmentation import flood\nfrom skimage.morphology import dilation, disk\nimport matplotlib.pyplot as plt\n\nclient = Client()\nclient.usingMmf = False  # True if on same machine as DE Server and a Windows machine\nclient.connect(port=13241)  # connect to the running DE Server"
      ]
    },
    {
      "cell_type": "markdown",
      "metadata": {},
      "source": [
        "## Get A Single Diffraction Pattern\nWe will acquire a single diffraction pattern to guide the virtual masks.\nWe can then use the brightest disk in the diffraction pattern to generate the VDF/VBF masks.\n\n"
      ]
    },
    {
      "cell_type": "code",
      "execution_count": null,
      "metadata": {
        "collapsed": false
      },
      "outputs": [],
      "source": [
        "client.start_acquisition(1)\n\n# wait for the acquisition to finish\nwhile client.acquiring:\n    time.sleep(1)\n\nimg = client.get_result(\"singleframe_integrated\")[0]"
      ]
    },
    {
      "cell_type": "markdown",
      "metadata": {},
      "source": [
        "Define a function to automatically find the bright field in the diffraction pattern\n\n"
      ]
    },
    {
      "cell_type": "code",
      "execution_count": null,
      "metadata": {
        "collapsed": false
      },
      "outputs": [],
      "source": [
        "def auto_find_bf(img, threshold=0.5, sigma=10, dilation_rad=30):\n    filtered = gaussian_filter(img, sigma=sigma)\n    center = np.unravel_index(np.argmax(filtered), shape=filtered.shape)\n    val = img[center]\n    mask = img > (val * threshold)\n    mask = flood(mask, center)  # only the center\n    mask = dilation(mask, footprint=disk(dilation_rad))\n    return mask\n\n\nmask = auto_find_bf(img)"
      ]
    },
    {
      "cell_type": "markdown",
      "metadata": {},
      "source": [
        "## Create the Virtual Masks\nWe will create the VDF and VBF masks by setting the pixel values in the masks.\n\n"
      ]
    },
    {
      "cell_type": "code",
      "execution_count": null,
      "metadata": {
        "collapsed": false
      },
      "outputs": [],
      "source": [
        "client.virtual_masks[1].calculation = \"Sum\"\nclient.virtual_masks[1].name = \"VBF\"\nclient.virtual_masks[1][:] = 1  # Set to 1\nclient.virtual_masks[1][mask] = 2  # Set mask to 2\nclient.virtual_masks[1].plot()\n\nclient.virtual_masks[2].calculation = \"Sum\"\nclient.virtual_masks[2].name = \"VDF\"\nclient.virtual_masks[2][:] = 2\nclient.virtual_masks[2][mask] = 1\nclient.virtual_masks[2].plot()"
      ]
    },
    {
      "cell_type": "markdown",
      "metadata": {},
      "source": [
        "## Acquire the Virtual Images\nWe will then acquire the virtual images using the virtual masks and plot the results.\n\n"
      ]
    },
    {
      "cell_type": "code",
      "execution_count": null,
      "metadata": {
        "collapsed": false
      },
      "outputs": [],
      "source": [
        "client[\"Frames Per Second\"] = 5000  # 5000 frames per second\nclient.scan(enable=\"On\", size_x=128, size_y=128)\nclient.start_acquisition()\n\nwhile client.acquiring:  # wait for acquisition to finish and then plot the results\n    time.sleep(1)\n\nfig, axs = plt.subplots(1, 3)\nfor a, virt in zip(axs, [\"virtual_image0\", \"virtual_image1\", \"virtual_image2\"]):\n    data, _, _, _ = client.get_result(virt)\n    a.imshow(data)\n    a.set_title(virt)"
      ]
    }
  ],
  "metadata": {
    "kernelspec": {
      "display_name": "Python 3",
      "language": "python",
      "name": "python3"
    },
    "language_info": {
      "codemirror_mode": {
        "name": "ipython",
        "version": 3
      },
      "file_extension": ".py",
      "mimetype": "text/x-python",
      "name": "python",
      "nbconvert_exporter": "python",
      "pygments_lexer": "ipython3",
      "version": "3.11.10"
    }
  },
  "nbformat": 4,
  "nbformat_minor": 0
}