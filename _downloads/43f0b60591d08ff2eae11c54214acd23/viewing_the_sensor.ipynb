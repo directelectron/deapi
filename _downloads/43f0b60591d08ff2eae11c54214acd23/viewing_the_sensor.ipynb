{
  "cells": [
    {
      "cell_type": "markdown",
      "metadata": {},
      "source": [
        "\n# Viewing Sensor Data During Acquisition\n\nThis example shows how to view the sensor data during acquisition. This is useful for\nmonitoring the data during acquisition.\n\nThis example will:\n\n1. Connect to the DE server\n2. Start an acquisition\n3. Continuously update a plot of the sensor data during acquisition\n4. Continually update a plot of the virtual image 0 (The sum of the sensor data) during acquisition\n"
      ]
    },
    {
      "cell_type": "code",
      "execution_count": null,
      "metadata": {
        "collapsed": false
      },
      "outputs": [],
      "source": [
        "from deapi import Client\nimport matplotlib.pyplot as plt\nimport numpy as np\n\nclient = Client()\nclient.usingMmf = False\n\nclient.connect(port=13241)  # connect to the running DE Server\n\nclient.scan(size_x=128, size_y=128, enable=\"On\")\nclient.start_acquisition(1)\n\n\nfig, axs = plt.subplots(1, 2)\ndata, _, _, _ = client.get_result(\"virtual_image0\")\nlive_im = axs[0].imshow(np.zeros_like(data))\n\ndata2, _, _, _ = client.get_result(\"singleframe_integrated\")\nlive_virt_im = axs[1].imshow(np.zeros_like(data))"
      ]
    },
    {
      "cell_type": "markdown",
      "metadata": {},
      "source": [
        "## Plotting the Sensor Data\nWe will plot the sensor data during acquisition. Note that matplotlib will block unless you are\nusing the Qt backend, and you won't get a live view unless you initialize the plot first and then\nupdate the data. If you have troubles with this please raise an issue on the github page.\n\n"
      ]
    },
    {
      "cell_type": "code",
      "execution_count": null,
      "metadata": {
        "collapsed": false
      },
      "outputs": [],
      "source": [
        "while client.acquiring:\n    data, _, _, _ = client.get_result(\"singleframe_integrated\")\n    live_im.set_data(data)\n\n    data, _, _, _ = client.get_result(\"virtual_image0\")\n    live_virt_im.set_data(data)\n    plt.pause(\n        0.02\n    )  # allow the matplotlib event loop to run. ~50 fps. Anything faster we need to\n    # use blitting in matplotlib. (up to ~500 fps)\n    live_im.autoscale()\n    live_virt_im.autoscale()"
      ]
    }
  ],
  "metadata": {
    "kernelspec": {
      "display_name": "Python 3",
      "language": "python",
      "name": "python3"
    },
    "language_info": {
      "codemirror_mode": {
        "name": "ipython",
        "version": 3
      },
      "file_extension": ".py",
      "mimetype": "text/x-python",
      "name": "python",
      "nbconvert_exporter": "python",
      "pygments_lexer": "ipython3",
      "version": "3.11.10"
    }
  },
  "nbformat": 4,
  "nbformat_minor": 0
}